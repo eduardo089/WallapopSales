{
 "cells": [
  {
   "cell_type": "code",
   "execution_count": 1,
   "metadata": {},
   "outputs": [],
   "source": [
    "import pandas as pd\n",
    "from wallapop_extract import extract_products"
   ]
  },
  {
   "cell_type": "code",
   "execution_count": 2,
   "metadata": {},
   "outputs": [
    {
     "name": "stdout",
     "output_type": "stream",
     "text": [
      "Current offset: 0 / 5000\n",
      "Current offset: 20 / 5000\n",
      "Current offset: 40 / 5000\n"
     ]
    }
   ],
   "source": [
    "search_term = \"retroid pocket 5\"\n",
    "result = extract_products(search_term, hard_limit=5000)\n",
    "df = pd.DataFrame(result)\n",
    "df.to_parquet('data.parquet', engine='fastparquet')"
   ]
  },
  {
   "cell_type": "code",
   "execution_count": 3,
   "metadata": {},
   "outputs": [
    {
     "data": {
      "text/html": [
       "<div>\n",
       "<style scoped>\n",
       "    .dataframe tbody tr th:only-of-type {\n",
       "        vertical-align: middle;\n",
       "    }\n",
       "\n",
       "    .dataframe tbody tr th {\n",
       "        vertical-align: top;\n",
       "    }\n",
       "\n",
       "    .dataframe thead th {\n",
       "        text-align: right;\n",
       "    }\n",
       "</style>\n",
       "<table border=\"1\" class=\"dataframe\">\n",
       "  <thead>\n",
       "    <tr style=\"text-align: right;\">\n",
       "      <th></th>\n",
       "      <th>id</th>\n",
       "      <th>title</th>\n",
       "      <th>description</th>\n",
       "      <th>distance</th>\n",
       "      <th>images</th>\n",
       "      <th>user</th>\n",
       "      <th>flags</th>\n",
       "      <th>visibility_flags</th>\n",
       "      <th>price</th>\n",
       "      <th>currency</th>\n",
       "      <th>...</th>\n",
       "      <th>shipping_allowed</th>\n",
       "      <th>seller_id</th>\n",
       "      <th>favorited</th>\n",
       "      <th>creation_date</th>\n",
       "      <th>modification_date</th>\n",
       "      <th>location</th>\n",
       "      <th>type_attributes</th>\n",
       "      <th>taxonomy</th>\n",
       "      <th>discount</th>\n",
       "      <th>is_refurbished</th>\n",
       "    </tr>\n",
       "  </thead>\n",
       "  <tbody>\n",
       "    <tr>\n",
       "      <th>0</th>\n",
       "      <td>pzp20rorr9j3</td>\n",
       "      <td>Retroid Pocket 5</td>\n",
       "      <td>Nueva practicamente. Tan solo probada y jugado...</td>\n",
       "      <td>393.0</td>\n",
       "      <td>[{'original': 'https://cdn.wallapop.com/images...</td>\n",
       "      <td>{'id': 'g0j2w8gwxnjy', 'micro_name': '', 'imag...</td>\n",
       "      <td>{'pending': False, 'sold': False, 'reserved': ...</td>\n",
       "      <td>{'bumped': False, 'highlighted': False, 'urgen...</td>\n",
       "      <td>270.0</td>\n",
       "      <td>EUR</td>\n",
       "      <td>...</td>\n",
       "      <td>True</td>\n",
       "      <td>g0j2w8gwxnjy</td>\n",
       "      <td>False</td>\n",
       "      <td>2025-03-04T15:08:29.117+00:00</td>\n",
       "      <td>2025-03-04T15:10:17.778+00:00</td>\n",
       "      <td>{'postal_code': '41010', 'city': 'Sevilla', 'c...</td>\n",
       "      <td>{}</td>\n",
       "      <td>[24200, 24203, 10087, 10088]</td>\n",
       "      <td>None</td>\n",
       "      <td>False</td>\n",
       "    </tr>\n",
       "    <tr>\n",
       "      <th>1</th>\n",
       "      <td>xzo2pv7xe469</td>\n",
       "      <td>Retroid pocket 5 color Game Cube</td>\n",
       "      <td>Vendo Retroid Pocket 5 modelo GameCube en perf...</td>\n",
       "      <td>296.0</td>\n",
       "      <td>[{'original': 'https://cdn.wallapop.com/images...</td>\n",
       "      <td>{'id': 'mxzoxmvop7z9', 'micro_name': '', 'imag...</td>\n",
       "      <td>{'pending': False, 'sold': False, 'reserved': ...</td>\n",
       "      <td>{'bumped': False, 'highlighted': False, 'urgen...</td>\n",
       "      <td>260.0</td>\n",
       "      <td>EUR</td>\n",
       "      <td>...</td>\n",
       "      <td>True</td>\n",
       "      <td>mxzoxmvop7z9</td>\n",
       "      <td>False</td>\n",
       "      <td>2025-03-03T16:31:02.752+00:00</td>\n",
       "      <td>2025-03-03T16:31:13.141+00:00</td>\n",
       "      <td>{'postal_code': '14007', 'city': 'Córdoba', 'c...</td>\n",
       "      <td>{}</td>\n",
       "      <td>[24200, 24203, 10087, 10088]</td>\n",
       "      <td>None</td>\n",
       "      <td>False</td>\n",
       "    </tr>\n",
       "  </tbody>\n",
       "</table>\n",
       "<p>2 rows × 25 columns</p>\n",
       "</div>"
      ],
      "text/plain": [
       "             id                              title  \\\n",
       "0  pzp20rorr9j3                   Retroid Pocket 5   \n",
       "1  xzo2pv7xe469  Retroid pocket 5 color Game Cube    \n",
       "\n",
       "                                         description  distance  \\\n",
       "0  Nueva practicamente. Tan solo probada y jugado...     393.0   \n",
       "1  Vendo Retroid Pocket 5 modelo GameCube en perf...     296.0   \n",
       "\n",
       "                                              images  \\\n",
       "0  [{'original': 'https://cdn.wallapop.com/images...   \n",
       "1  [{'original': 'https://cdn.wallapop.com/images...   \n",
       "\n",
       "                                                user  \\\n",
       "0  {'id': 'g0j2w8gwxnjy', 'micro_name': '', 'imag...   \n",
       "1  {'id': 'mxzoxmvop7z9', 'micro_name': '', 'imag...   \n",
       "\n",
       "                                               flags  \\\n",
       "0  {'pending': False, 'sold': False, 'reserved': ...   \n",
       "1  {'pending': False, 'sold': False, 'reserved': ...   \n",
       "\n",
       "                                    visibility_flags  price currency  ...  \\\n",
       "0  {'bumped': False, 'highlighted': False, 'urgen...  270.0      EUR  ...   \n",
       "1  {'bumped': False, 'highlighted': False, 'urgen...  260.0      EUR  ...   \n",
       "\n",
       "   shipping_allowed     seller_id  favorited                  creation_date  \\\n",
       "0              True  g0j2w8gwxnjy      False  2025-03-04T15:08:29.117+00:00   \n",
       "1              True  mxzoxmvop7z9      False  2025-03-03T16:31:02.752+00:00   \n",
       "\n",
       "               modification_date  \\\n",
       "0  2025-03-04T15:10:17.778+00:00   \n",
       "1  2025-03-03T16:31:13.141+00:00   \n",
       "\n",
       "                                            location type_attributes  \\\n",
       "0  {'postal_code': '41010', 'city': 'Sevilla', 'c...              {}   \n",
       "1  {'postal_code': '14007', 'city': 'Córdoba', 'c...              {}   \n",
       "\n",
       "                       taxonomy discount is_refurbished  \n",
       "0  [24200, 24203, 10087, 10088]     None          False  \n",
       "1  [24200, 24203, 10087, 10088]     None          False  \n",
       "\n",
       "[2 rows x 25 columns]"
      ]
     },
     "execution_count": 3,
     "metadata": {},
     "output_type": "execute_result"
    }
   ],
   "source": [
    "df = pd.read_parquet('data.parquet', engine='fastparquet')\n",
    "df.head(2)"
   ]
  },
  {
   "cell_type": "code",
   "execution_count": 8,
   "metadata": {},
   "outputs": [
    {
     "data": {
      "text/plain": [
       "{'pending': False,\n",
       " 'sold': False,\n",
       " 'reserved': False,\n",
       " 'banned': False,\n",
       " 'expired': False,\n",
       " 'onhold': False}"
      ]
     },
     "execution_count": 8,
     "metadata": {},
     "output_type": "execute_result"
    }
   ],
   "source": [
    "df[['flags']].head(1).values[0][0]"
   ]
  },
  {
   "cell_type": "code",
   "execution_count": 10,
   "metadata": {},
   "outputs": [
    {
     "name": "stdout",
     "output_type": "stream",
     "text": [
      "                                              title  price\n",
      "29                   2TB Steam Deck Oled más extras  619.0\n",
      "42                   2TB Steam Deck Oled más extras  619.0\n",
      "25   Onexplayer Onexfly vs Nintendo Switch Ps5 Xbox  599.0\n",
      "15  16GB 1TB AYANEO Pocket S vs Nintendo Switch Ps5  599.0\n",
      "38   Onexplayer Onexfly vs Nintendo Switch Ps5 Xbox  599.0\n",
      "..                                              ...    ...\n",
      "52                                   GPD WIN 4 GRIP   10.0\n",
      "50                                 Batería 8000 mAh    7.0\n",
      "62                                 Batería 8000 mAh    7.0\n",
      "56              Retroid pocket 5 protector cristal     4.0\n",
      "68              Retroid pocket 5 protector cristal     4.0\n",
      "\n",
      "[69 rows x 2 columns]\n"
     ]
    }
   ],
   "source": [
    "print(df[['title', 'price']].sort_values('price', ascending=False))"
   ]
  },
  {
   "cell_type": "code",
   "execution_count": null,
   "metadata": {},
   "outputs": [],
   "source": []
  }
 ],
 "metadata": {
  "kernelspec": {
   "display_name": "Python 3",
   "language": "python",
   "name": "python3"
  },
  "language_info": {
   "codemirror_mode": {
    "name": "ipython",
    "version": 3
   },
   "file_extension": ".py",
   "mimetype": "text/x-python",
   "name": "python",
   "nbconvert_exporter": "python",
   "pygments_lexer": "ipython3",
   "version": "3.11.11"
  }
 },
 "nbformat": 4,
 "nbformat_minor": 2
}
