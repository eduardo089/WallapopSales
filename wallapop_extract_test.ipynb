{
 "cells": [
  {
   "cell_type": "code",
   "execution_count": 8,
   "metadata": {},
   "outputs": [],
   "source": [
    "import datetime\n",
    "import pandas as pd\n",
    "import json\n",
    "from wallapop_extract import extract_products\n",
    "\n",
    "pd.set_option('display.max_columns', None)\n"
   ]
  },
  {
   "cell_type": "code",
   "execution_count": 23,
   "metadata": {},
   "outputs": [],
   "source": [
    "search_term = \"retroid pocket 5\"\n",
    "curr_date = datetime.date.today()"
   ]
  },
  {
   "cell_type": "code",
   "execution_count": 24,
   "metadata": {},
   "outputs": [
    {
     "name": "stdout",
     "output_type": "stream",
     "text": [
      "Current offset: 0 / 5000\n",
      "Current offset: 20 / 5000\n",
      "Current offset: 40 / 5000\n"
     ]
    }
   ],
   "source": [
    "result = extract_products(search_term, hard_limit=5000)\n",
    "df = pd.DataFrame(result)\n",
    "df['lookup_date'] = curr_date.strftime(\"%Y-%m-%d\")\n",
    "df['search_term'] = search_term\n",
    "df.to_parquet(f'{curr_date.strftime(\"%Y%m%d\")}_{search_term.lower().replace(\" \", \"_\")}_data.parquet', engine='fastparquet')"
   ]
  },
  {
   "cell_type": "code",
   "execution_count": 18,
   "metadata": {},
   "outputs": [
    {
     "data": {
      "text/plain": [
       "<Axes: title={'center': 'Price distribution of Iphone 13'}, ylabel='Frequency'>"
      ]
     },
     "execution_count": 18,
     "metadata": {},
     "output_type": "execute_result"
    },
    {
     "data": {
      "image/png": "[encoded data removed]",
      "text/plain": [
       "<Figure size 640x480 with 1 Axes>"
      ]
     },
     "metadata": {},
     "output_type": "display_data"
    }
   ],
   "source": [
    "import matplotlib.pyplot as plt\n",
    "\n",
    "df['price'].plot.hist(bins=25, title=f'Price distribution of {search_term}')"
   ]
  },
  {
   "cell_type": "code",
   "execution_count": null,
   "metadata": {},
   "outputs": [
    {
     "data": {
      "text/html": [
       "<div>\n",
       "<style scoped>\n",
       "    .dataframe tbody tr th:only-of-type {\n",
       "        vertical-align: middle;\n",
       "    }\n",
       "\n",
       "    .dataframe tbody tr th {\n",
       "        vertical-align: top;\n",
       "    }\n",
       "\n",
       "    .dataframe thead th {\n",
       "        text-align: right;\n",
       "    }\n",
       "</style>\n",
       "<table border=\"1\" class=\"dataframe\">\n",
       "  <thead>\n",
       "    <tr style=\"text-align: right;\">\n",
       "      <th></th>\n",
       "      <th>id</th>\n",
       "      <th>title</th>\n",
       "      <th>description</th>\n",
       "      <th>distance</th>\n",
       "      <th>images</th>\n",
       "      <th>user</th>\n",
       "      <th>flags</th>\n",
       "      <th>visibility_flags</th>\n",
       "      <th>price</th>\n",
       "      <th>currency</th>\n",
       "      <th>free_shipping</th>\n",
       "      <th>web_slug</th>\n",
       "      <th>category_id</th>\n",
       "      <th>shipping</th>\n",
       "      <th>supports_shipping</th>\n",
       "      <th>shipping_allowed</th>\n",
       "      <th>seller_id</th>\n",
       "      <th>favorited</th>\n",
       "      <th>creation_date</th>\n",
       "      <th>modification_date</th>\n",
       "      <th>location</th>\n",
       "      <th>type_attributes</th>\n",
       "      <th>taxonomy</th>\n",
       "      <th>discount</th>\n",
       "      <th>is_refurbished</th>\n",
       "    </tr>\n",
       "  </thead>\n",
       "  <tbody>\n",
       "    <tr>\n",
       "      <th>0</th>\n",
       "      <td>pzp20rorr9j3</td>\n",
       "      <td>Retroid Pocket 5</td>\n",
       "      <td>Nueva practicamente. Tan solo probada y jugado...</td>\n",
       "      <td>99.0</td>\n",
       "      <td>[{'original': 'https://cdn.wallapop.com/images...</td>\n",
       "      <td>{'id': 'g0j2w8gwxnjy', 'micro_name': '', 'imag...</td>\n",
       "      <td>{'pending': False, 'sold': False, 'reserved': ...</td>\n",
       "      <td>{'bumped': False, 'highlighted': False, 'urgen...</td>\n",
       "      <td>270.0</td>\n",
       "      <td>EUR</td>\n",
       "      <td>False</td>\n",
       "      <td>retroid-pocket-5-1108355426</td>\n",
       "      <td>24200</td>\n",
       "      <td>{'item_is_shippable': True, 'user_allows_shipp...</td>\n",
       "      <td>True</td>\n",
       "      <td>True</td>\n",
       "      <td>g0j2w8gwxnjy</td>\n",
       "      <td>False</td>\n",
       "      <td>2025-03-04T15:08:29.117+00:00</td>\n",
       "      <td>2025-03-04T15:10:17.778+00:00</td>\n",
       "      <td>{'postal_code': '41010', 'city': 'Sevilla', 'c...</td>\n",
       "      <td>{}</td>\n",
       "      <td>[24200, 24203, 10087, 10088]</td>\n",
       "      <td>None</td>\n",
       "      <td>False</td>\n",
       "    </tr>\n",
       "    <tr>\n",
       "      <th>1</th>\n",
       "      <td>xzo2pv7xe469</td>\n",
       "      <td>Retroid pocket 5 color Game Cube</td>\n",
       "      <td>Vendo Retroid Pocket 5 modelo GameCube en perf...</td>\n",
       "      <td>102.0</td>\n",
       "      <td>[{'original': 'https://cdn.wallapop.com/images...</td>\n",
       "      <td>{'id': 'mxzoxmvop7z9', 'micro_name': '', 'imag...</td>\n",
       "      <td>{'pending': False, 'sold': False, 'reserved': ...</td>\n",
       "      <td>{'bumped': False, 'highlighted': False, 'urgen...</td>\n",
       "      <td>260.0</td>\n",
       "      <td>EUR</td>\n",
       "      <td>False</td>\n",
       "      <td>retroid-pocket-5-color-game-cube-1107929081</td>\n",
       "      <td>24200</td>\n",
       "      <td>{'item_is_shippable': True, 'user_allows_shipp...</td>\n",
       "      <td>True</td>\n",
       "      <td>True</td>\n",
       "      <td>mxzoxmvop7z9</td>\n",
       "      <td>False</td>\n",
       "      <td>2025-03-03T16:31:02.752+00:00</td>\n",
       "      <td>2025-03-03T16:31:13.141+00:00</td>\n",
       "      <td>{'postal_code': '14007', 'city': 'Córdoba', 'c...</td>\n",
       "      <td>{}</td>\n",
       "      <td>[24200, 24203, 10087, 10088]</td>\n",
       "      <td>None</td>\n",
       "      <td>False</td>\n",
       "    </tr>\n",
       "  </tbody>\n",
       "</table>\n",
       "</div>"
      ],
      "text/plain": [
       "             id                              title  \\\n",
       "0  pzp20rorr9j3                   Retroid Pocket 5   \n",
       "1  xzo2pv7xe469  Retroid pocket 5 color Game Cube    \n",
       "\n",
       "                                         description  distance  \\\n",
       "0  Nueva practicamente. Tan solo probada y jugado...      99.0   \n",
       "1  Vendo Retroid Pocket 5 modelo GameCube en perf...     102.0   \n",
       "\n",
       "                                              images  \\\n",
       "0  [{'original': 'https://cdn.wallapop.com/images...   \n",
       "1  [{'original': 'https://cdn.wallapop.com/images...   \n",
       "\n",
       "                                                user  \\\n",
       "0  {'id': 'g0j2w8gwxnjy', 'micro_name': '', 'imag...   \n",
       "1  {'id': 'mxzoxmvop7z9', 'micro_name': '', 'imag...   \n",
       "\n",
       "                                               flags  \\\n",
       "0  {'pending': False, 'sold': False, 'reserved': ...   \n",
       "1  {'pending': False, 'sold': False, 'reserved': ...   \n",
       "\n",
       "                                    visibility_flags  price currency  \\\n",
       "0  {'bumped': False, 'highlighted': False, 'urgen...  270.0      EUR   \n",
       "1  {'bumped': False, 'highlighted': False, 'urgen...  260.0      EUR   \n",
       "\n",
       "   free_shipping                                     web_slug  category_id  \\\n",
       "0          False                  retroid-pocket-5-1108355426        24200   \n",
       "1          False  retroid-pocket-5-color-game-cube-1107929081        24200   \n",
       "\n",
       "                                            shipping  supports_shipping  \\\n",
       "0  {'item_is_shippable': True, 'user_allows_shipp...               True   \n",
       "1  {'item_is_shippable': True, 'user_allows_shipp...               True   \n",
       "\n",
       "   shipping_allowed     seller_id  favorited                  creation_date  \\\n",
       "0              True  g0j2w8gwxnjy      False  2025-03-04T15:08:29.117+00:00   \n",
       "1              True  mxzoxmvop7z9      False  2025-03-03T16:31:02.752+00:00   \n",
       "\n",
       "               modification_date  \\\n",
       "0  2025-03-04T15:10:17.778+00:00   \n",
       "1  2025-03-03T16:31:13.141+00:00   \n",
       "\n",
       "                                            location type_attributes  \\\n",
       "0  {'postal_code': '41010', 'city': 'Sevilla', 'c...              {}   \n",
       "1  {'postal_code': '14007', 'city': 'Córdoba', 'c...              {}   \n",
       "\n",
       "                       taxonomy discount  is_refurbished  \n",
       "0  [24200, 24203, 10087, 10088]     None           False  \n",
       "1  [24200, 24203, 10087, 10088]     None           False  "
      ]
     },
     "execution_count": 7,
     "metadata": {},
     "output_type": "execute_result"
    }
   ],
   "source": [
    "df = pd.read_parquet('data.parquet', engine='fastparquet')\n",
    "df.head(2)"
   ]
  },
  {
   "cell_type": "code",
   "execution_count": null,
   "metadata": {},
   "outputs": [],
   "source": []
  }
 ],
 "metadata": {
  "kernelspec": {
   "display_name": "Python 3",
   "language": "python",
   "name": "python3"
  },
  "language_info": {
   "codemirror_mode": {
    "name": "ipython",
    "version": 3
   },
   "file_extension": ".py",
   "mimetype": "text/x-python",
   "name": "python",
   "nbconvert_exporter": "python",
   "pygments_lexer": "ipython3",
   "version": "3.11.11"
  }
 },
 "nbformat": 4,
 "nbformat_minor": 2
}
