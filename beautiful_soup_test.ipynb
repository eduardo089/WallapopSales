{
 "cells": [
  {
   "cell_type": "code",
   "execution_count": 1,
   "metadata": {},
   "outputs": [],
   "source": [
    "from bs4 import BeautifulSoup\n",
    "import requests"
   ]
  },
  {
   "cell_type": "code",
   "execution_count": 2,
   "metadata": {},
   "outputs": [],
   "source": [
    "url = 'https://www.scrapethissite.com/pages/forms/'"
   ]
  },
  {
   "cell_type": "code",
   "execution_count": 5,
   "metadata": {},
   "outputs": [],
   "source": [
    "page = requests.get(url)"
   ]
  },
  {
   "cell_type": "code",
   "execution_count": 7,
   "metadata": {},
   "outputs": [],
   "source": [
    "soup = BeautifulSoup(page.text, 'html')"
   ]
  },
  {
   "cell_type": "code",
   "execution_count": 13,
   "metadata": {},
   "outputs": [
    {
     "data": {
      "text/plain": [
       "[<p class=\"lead\">\n",
       "                             Browse through a database of NHL team stats since 1990. Practice building a scraper that handles common website interface components.\n",
       "                             Take a look at how pagination and search elements change the URL as your browse. Build a web scraper that can conduct searches and paginate through the results.\n",
       "                         </p>]"
      ]
     },
     "execution_count": 13,
     "metadata": {},
     "output_type": "execute_result"
    }
   ],
   "source": [
    "# used to find all instances but can't extract using .text\n",
    "soup.find_all('p', class_ = 'lead')"
   ]
  },
  {
   "cell_type": "code",
   "execution_count": 16,
   "metadata": {},
   "outputs": [
    {
     "data": {
      "text/plain": [
       "'Browse through a database of NHL team stats since 1990. Practice building a scraper that handles common website interface components.\\n                            Take a look at how pagination and search elements change the URL as your browse. Build a web scraper that can conduct searches and paginate through the results.'"
      ]
     },
     "execution_count": 16,
     "metadata": {},
     "output_type": "execute_result"
    }
   ],
   "source": [
    "# this one can finde the text\n",
    "soup.find('p', class_ = 'lead').text.strip()"
   ]
  },
  {
   "cell_type": "code",
   "execution_count": 17,
   "metadata": {},
   "outputs": [
    {
     "data": {
      "text/plain": [
       "[<p class=\"lead\">\n",
       "                             Browse through a database of NHL team stats since 1990. Practice building a scraper that handles common website interface components.\n",
       "                             Take a look at how pagination and search elements change the URL as your browse. Build a web scraper that can conduct searches and paginate through the results.\n",
       "                         </p>]"
      ]
     },
     "execution_count": 17,
     "metadata": {},
     "output_type": "execute_result"
    }
   ],
   "source": [
    "# used to find all instances but can't extract using .text\n",
    "soup.find_all('p', class_ = 'lead')"
   ]
  },
  {
   "cell_type": "markdown",
   "metadata": {},
   "source": [
    "# Intento 2"
   ]
  },
  {
   "cell_type": "code",
   "execution_count": null,
   "metadata": {},
   "outputs": [
    {
     "name": "stdout",
     "output_type": "stream",
     "text": [
      "Error al hacer clic en 'Ver más': Message: \n",
      "Stacktrace:\n",
      "\tGetHandleVerifier [0x00007FF6E916C6A5+28789]\n",
      "\t(No symbol) [0x00007FF6E90D5B20]\n",
      "\t(No symbol) [0x00007FF6E8F68F9A]\n",
      "\t(No symbol) [0x00007FF6E8FBF346]\n",
      "\t(No symbol) [0x00007FF6E8FBF57C]\n",
      "\t(No symbol) [0x00007FF6E9012B17]\n",
      "\t(No symbol) [0x00007FF6E8FE736F]\n",
      "\t(No symbol) [0x00007FF6E900F7E3]\n",
      "\t(No symbol) [0x00007FF6E8FE7103]\n",
      "\t(No symbol) [0x00007FF6E8FAFFC0]\n",
      "\t(No symbol) [0x00007FF6E8FB1273]\n",
      "\tGetHandleVerifier [0x00007FF6E94B1AED+3458237]\n",
      "\tGetHandleVerifier [0x00007FF6E94C829C+3550316]\n",
      "\tGetHandleVerifier [0x00007FF6E94BDB9D+3507565]\n",
      "\tGetHandleVerifier [0x00007FF6E9232C6A+841274]\n",
      "\t(No symbol) [0x00007FF6E90E09EF]\n",
      "\t(No symbol) [0x00007FF6E90DCB34]\n",
      "\t(No symbol) [0x00007FF6E90DCCD6]\n",
      "\t(No symbol) [0x00007FF6E90CC119]\n",
      "\tBaseThreadInitThunk [0x00007FFD5C3D259D+29]\n",
      "\tRtlUserThreadStart [0x00007FFD5E08AF38+40]\n",
      "\n",
      "Se han cargado todos los elementos disponibles.\n",
      "Título: Vendo Retroid Pocket 5, Precio: 240,00 €\n",
      "Título: Retroid Pocket 5 8-128, Precio: 230,00 €\n",
      "Título: Retroid pocket 5, Precio: 280,00 €\n",
      "Título: Retroid Pocket 5 vs Nintendo Switch PS5 XBox Ps4, Precio: 249,00 €\n",
      "Título: Retroid pocket 5, Precio: 200,00 €\n",
      "Título: Retroid Pocket 5 y Micro SD de 128gb incluida., Precio: 240,00 €\n",
      "Título: Retroid Pocket 5, Precio: 260,00 €\n",
      "Título: Retroid Pocket 5   Configurada, Precio: 270,00 €\n",
      "Título: Retroid pocket 5 color GC, Precio: 265,00 €\n",
      "Título: Vendo Retroid Pocket 5, Precio: 260,00 €\n",
      "Título: Retroid Pocket Mini, Precio: 205,00 €\n",
      "Título: Retroid pocket 5, Precio: 270,00 €\n",
      "Título: 16GB 1TB AYANEO Pocket S vs Nintendo Switch Ps5, Precio: 599,00 €\n",
      "Título: 12GB 128GB AYANEO Pocket S vs Nintendo Switch Ps5, Precio: 499,00 €\n",
      "Título: Retroid pocket 5, Precio: 260,00 €\n",
      "Título: Consola retroid RP 5, Precio: 290,00 €\n",
      "Título: Retroid pocket 3 plus, Precio: 120,00 €\n",
      "Título: Onexplayer Onexfly vs Nintendo Switch Ps5 Xbox, Precio: 599,00 €\n",
      "Título: Retroid Pocket 2s, Precio: 95,00 €\n",
      "Título: Ayaneo Air Plus 6800u vs Nintendo Switch Ps5 Xbox, Precio: 549,00 €\n",
      "Título: Ayaneo 2 6800U vs Nintendo Switch Ps5 Xbox Series, Precio: 549,00 €\n",
      "Título: Retroid Pocket 5: Púrpura, Precio: 280,00 €\n",
      "Título: Retroid Pocket 5: blanco, Precio: 280,00 €\n",
      "Título: Retroid Pocket 5: negro, Precio: 280,00 €\n",
      "Título: Retroid pocket 5 rp5, Precio: 275,00 €\n",
      "Título: rg cube en perfectas condiciones, Precio: 134,00 €\n",
      "Título: Retroid pocket 5, Precio: 290,00 €\n",
      "Título: Retroid Pocket 4 pro, Precio: 200,00 €\n",
      "Título: 2TB Valve Steam Deck Oled más extras, Precio: 639,00 €\n",
      "Título: Steam Deck 512 pantalla mate garantía, Precio: 329,00 €\n",
      "Título: RETROID POCKET 4 PRO, Precio: 195,00 €\n",
      "Título: 🔥Retroid Pocket 2 Nueva🔥, Precio: 68,99 €\n",
      "Título: 🔥Retroid Pocket 2  Nueva🔥, Precio: 68,99 €\n",
      "Título: Sony PSOne SCPH-102 con modificación, Precio: 100,00 €\n",
      "Título: Retroid Pocket 5 negra nueva, Precio: 250,00 €\n",
      "Título: Batería 8000 mAh, Precio: 8,00 €\n",
      "Título: Ceba Rapi + Power bank, Precio: 60,00 €\n",
      "Título: GPD WIN 4 GRIP, Precio: 15,00 €\n",
      "Título: Juegos de Lotto para Xbox 360, Precio: 40,00 €\n",
      "Título: Retroid Pocket 5, Precio: 250,00 €\n",
      "Título: Retroid pocket 5, Precio: 210,00 €\n",
      "Título: Retroid pocket 5 protector cristal, Precio: 4,00 €\n",
      "Título: Retroid pocket 4 Pro, Precio: 160,00 €\n",
      "Título: A Pocket Guide to Written English, Precio: 9,24 €\n",
      "Título: Pocket PC HP iPAQ rz 1710, Precio: 50,00 €\n",
      "Título: Retroid Pocket 2, Precio: 60,00 €\n",
      "Título: Retroid Pocket 3 plus, Precio: 115,00 €\n",
      "Título: Retroid Pocket 3 plus, Precio: 90,00 €\n",
      "Título: Comic Polly Pocket Agosto 1994 Mattel, Precio: 70,00 €\n",
      "Título: RETROID POCKET 3 PLUS, Precio: 130,00 €\n",
      "Título: Retroid pocket 3 plus, Precio: 120,00 €\n",
      "Título: Retroid Pocket 3+, Precio: 100,00 €\n",
      "Título: Puzzle Bobble Mini / Neo Geo Pocket Color, Precio: 99,95 €\n",
      "Título: POCKET PC MODELO T5, Precio: 69,95 €\n",
      "Título: Retroid pocket mini, Precio: 200,00 €\n",
      "Título: Retroid Pocket 4 Pro, Precio: 165,00 €\n",
      "Título: Punk Rock Jesus (DC Pocket), Precio: 6,00 €\n",
      "Título: Retroid pocket 4 pro, Precio: 0,00 €\n",
      "Título: Diccionario Oxford Pocket de ingles, Precio: 8,99 €\n",
      "Título: Retroid pocket 2, Precio: 70,00 €\n",
      "Título: Lote 5 corbatas Pedro del Hierro, Precio: 27,00 €\n",
      "Título: Girls age 5 designer chloe/badum badero bundle, Precio: 90,00 €\n",
      "Título: 2 corbatas de seda en total 3,5 euros, Precio: 3,50 €\n",
      "Título: Budi - 20,000mAh Dual USB Pocket Power Bank - Fast, Precio: 23,99 €\n",
      "Título: Lote DC Pocket, Precio: 15,00 €\n"
     ]
    }
   ],
   "source": [
    "from selenium import webdriver\n",
    "from selenium.webdriver.chrome.service import Service\n",
    "from selenium.webdriver.chrome.options import Options\n",
    "from selenium.webdriver.common.by import By\n",
    "from selenium.webdriver.support.ui import WebDriverWait\n",
    "from selenium.webdriver.support import expected_conditions as EC\n",
    "from bs4 import BeautifulSoup\n",
    "import time\n",
    "from selenium.common.exceptions import TimeoutException, NoSuchElementException, StaleElementReferenceException\n",
    "\n",
    "def scroll_to_button(driver, button):\n",
    "    driver.execute_script(\"arguments[0].scrollIntoView();\", button)\n",
    "\n",
    "chrome_options = Options()\n",
    "# chrome_options.add_argument(\"--headless\")\n",
    "driver = webdriver.Chrome(options=chrome_options)\n",
    "# wait = WebDriverWait(driver, 20)\n",
    "\n",
    "url = 'https://es.wallapop.com/app/search?filters_source=search_box&keywords=retroid%20pocket%205'\n",
    "driver.get(url)\n",
    "\n",
    "try:\n",
    "    cookie_button = WebDriverWait(driver, 20).until(EC.element_to_be_clickable((By.ID, \"onetrust-reject-all-handler\")))\n",
    "    cookie_button.click()\n",
    "except TimeoutException:\n",
    "    print(\"No se encontró el botón de cookies o no apareció el diálogo.\")\n",
    "\n",
    "\n",
    "def click_ver_mas():\n",
    "    try:\n",
    "        # Esperar hasta que el botón 'Ver más' esté presente en el DOM\n",
    "        button = WebDriverWait(driver, 20).until(\n",
    "            EC.presence_of_element_located((By.XPATH, \"//walla-button[@id='btn-load-more']\"))\n",
    "        )\n",
    "        # Desplazar la página hasta el botón para asegurarse de que es visible\n",
    "        driver.execute_script('arguments[0].scrollIntoView({behavior: \"auto\", block: \"center\"});', button)\n",
    "        time.sleep(1)\n",
    "        # Acceder al Shadow DOM del botón\n",
    "        shadow_root = driver.execute_script('return arguments[0].shadowRoot', button)\n",
    "        # Encontrar el botón dentro del Shadow DOM y hacer clic\n",
    "        shadow_button = WebDriverWait(shadow_root, 20).until(\n",
    "            EC.element_to_be_clickable((By.CSS_SELECTOR, \"button.walla-button__button--medium\"))\n",
    "        )\n",
    "        shadow_button.click()\n",
    "        time.sleep(2)\n",
    "        return True\n",
    "    except Exception as e:\n",
    "        print(f\"Error al hacer clic en 'Ver más'\")\n",
    "        return False\n",
    "\n",
    "# Hacer clic en 'Ver más' hasta que no sea posible\n",
    "while click_ver_mas():\n",
    "    pass\n",
    "\n",
    "print(\"Se han cargado todos los elementos disponibles.\")\n",
    "\n",
    "# Esperar a que se carguen los elementos\n",
    "WebDriverWait(driver, 20).until(EC.presence_of_all_elements_located((By.CLASS_NAME, \"ItemCardList__item\")))\n",
    "\n",
    "# Obtener el HTML y parsearlo\n",
    "html = driver.page_source\n",
    "soup = BeautifulSoup(html, 'html.parser')\n",
    "\n",
    "# Encontrar y procesar los elementos\n",
    "items = soup.find_all(class_=\"ItemCardList__item\")\n",
    "for item in items:\n",
    "    title = item.find(class_=\"ItemCard__title\")\n",
    "    price = item.find(class_=\"ItemCard__price\")\n",
    "    if title and price:\n",
    "        print(f\"Título: {title.text.strip()}, Precio: {price.text.strip()}\")\n",
    "\n",
    "driver.quit()"
   ]
  },
  {
   "cell_type": "code",
   "execution_count": 124,
   "metadata": {},
   "outputs": [
    {
     "name": "stdout",
     "output_type": "stream",
     "text": [
      "Retroid pocket 4 Pro 160,00 € https://es.wallapop.com/item/retroid-pocket-4-pro-1107098476\n",
      "Vendo Retroid Pocket 5  240,00 € https://es.wallapop.com/item/vendo-retroid-pocket-5-1107127250\n",
      "Retroid Pocket 5 vs Nintendo Switch PS5 XBox Ps4 249,00 € https://es.wallapop.com/item/retroid-pocket-5-vs-nintendo-switch-ps5-xbox-ps4-1106735038\n",
      "Retroid Pocket 4 Pro 165,00 € https://es.wallapop.com/item/retroid-pocket-4-pro-1105385055\n",
      "Retroid pocket 4 pro  0,00 € https://es.wallapop.com/item/retroid-pocket-4-pro-1105077835\n",
      "Retroid Pocket Mini 205,00 € https://es.wallapop.com/item/retroid-pocket-mini-1105998164\n",
      "Retroid Pocket 4 Pro 128gb 220,00 € https://es.wallapop.com/item/retroid-pocket-4-pro-128gb-1103658233\n",
      "16GB 1TB AYANEO Pocket S vs Nintendo Switch Ps5 599,00 € https://es.wallapop.com/item/16gb-1tb-ayaneo-pocket-s-vs-nintendo-switch-ps5-1106738184\n",
      "12GB 128GB AYANEO Pocket S vs Nintendo Switch Ps5 499,00 € https://es.wallapop.com/item/12gb-128gb-ayaneo-pocket-s-vs-nintendo-switch-ps5-1106737292\n",
      "RETROID POCKET 4 PRO  190,00 € https://es.wallapop.com/item/retroid-pocket-4-pro-1100005158\n",
      "Retroid pocket 4 pro-Grip y funda 200,00 € https://es.wallapop.com/item/retroid-pocket-4-pro-grip-y-funda-1104691617\n",
      "Retroid Pocket 2s 95,00 € https://es.wallapop.com/item/retroid-pocket-2s-1104147012\n",
      "Retroid Pocket 4 pro 200,00 € https://es.wallapop.com/item/retroid-pocket-4-pro-1099264627\n",
      "rg cube en perfectas condiciones 134,00 € https://es.wallapop.com/item/rg-cube-en-perfectas-condiciones-1106734687\n",
      "🎮 Retroid Pocket 4 Pro Crystall 8GB+128GB 🎮 200,00 € https://es.wallapop.com/item/retroid-pocket-4-pro-crystall-1096096068\n",
      "Retroid pocket 4 pro 250,00 € https://es.wallapop.com/item/retroid-pocket-4-pro-1094728758\n",
      "Retroid pocket 4 pro  170,00 € https://es.wallapop.com/item/retroid-pocket-4-pro-1096007312\n",
      "2TB Valve Steam Deck Oled más extras 639,00 € https://es.wallapop.com/item/2tb-valve-steam-deck-oled-mas-extras-1106735422\n",
      "Ayaneo Air Plus 6800u vs Nintendo Switch Ps5 Xbox 549,00 € https://es.wallapop.com/item/ayaneo-air-plus-6800u-vs-nintendo-switch-ps5-xbox-1106735811\n",
      "Onexplayer Onexfly vs Nintendo Switch Ps5 Xbox 599,00 € https://es.wallapop.com/item/onexplayer-onexfly-vs-nintendo-switch-ps5-xbox-1106736941\n",
      "Ayaneo 2 6800U vs Nintendo Switch Ps5 Xbox Series 549,00 € https://es.wallapop.com/item/ayaneo-2-6800u-vs-nintendo-switch-ps5-xbox-series-1106736555\n",
      "Retroid pocket 5 rp5 275,00 € https://es.wallapop.com/item/retroid-pocket-5-rp5-1093051219\n",
      "Retroid Pocket 4 Pro 260,00 € https://es.wallapop.com/item/retroid-pocket-4-pro-1091273990\n",
      "Agarre retroid pocket 4 10,00 € https://es.wallapop.com/item/agarre-retroid-pocket-4-1083699468\n",
      "Retroid pocket 4 pro 8gb ram 128gb  190,00 € https://es.wallapop.com/item/retroid-pocket-4-pro-1085619146\n",
      "RETROID POCKET 4 PRO 195,00 € https://es.wallapop.com/item/retroid-pocket-4-pro-1037906241\n",
      "Grip Retroid Pocket 4 y 4 pro 11,00 € https://es.wallapop.com/item/grip-retroid-pocket-4-y-4-pro-1049788753\n",
      "Retroid pocket 3+ 45,00 € https://es.wallapop.com/item/retroid-pocket-3-1072991607\n",
      "Cristal templado retroid pocket 4 pro 7,00 € https://es.wallapop.com/item/cristal-templado-retroid-pocket-4-pro-1037255452\n",
      "🔥Retroid Pocket 2 Nueva🔥 68,99 € https://es.wallapop.com/item/retroid-pocket-2-seminueva-1006951498\n",
      "Xbox Series S y cargador para mandos 180,00 € https://es.wallapop.com/item/xbox-series-s-y-cargador-para-mandos-1091793097\n",
      "Cool Boarders 4 PS1 25,00 € https://es.wallapop.com/item/cool-boarders-4-ps1-1038991439\n",
      "Ridge Racer tipo 4 PS1 45,00 € https://es.wallapop.com/item/ridge-racer-type-4-ps1-1041827731\n",
      "GPD WIN 4 GRIP 15,00 € https://es.wallapop.com/item/gpd-win-4-grip-1032329504\n",
      "Resident Evil 4 para PS2 30,00 € https://es.wallapop.com/item/resident-evil-4-per-ps2-1037474475\n",
      "Consola Xbox 360 de 4 GB/go y disco duro de 250 GB 150,00 € https://es.wallapop.com/item/console-xbox-360-4gb-go---hdd-250gb-1033511884\n",
      "🔥Retroid Pocket 2  Nueva🔥 68,99 € https://es.wallapop.com/item/retroid-pocket-seminueva-804743852\n",
      "Sony PSOne SCPH-102 con modificación 100,00 € https://es.wallapop.com/item/sony-psone-scph-102-con-modifica-1105003644\n",
      "Batería 8000 mAh 8,00 € https://es.wallapop.com/item/bateria-8000-mah-1081729635\n",
      "Ceba Rapi + Power bank 60,00 € https://es.wallapop.com/item/ceba-rapi---power-bank-1055076712\n",
      "Funda consola 5,00 € https://es.wallapop.com/item/funda-consola-1002515159\n",
      "PlayStation Magazine 41 oficial 45,00 € https://es.wallapop.com/item/rivista-ufficiale-playstation-magazine-41-1038359533\n",
      "Juegos de Lotto PS2 20,00 € https://es.wallapop.com/item/lotto-giochi-ps2-1037757623\n",
      "Juegos de Lotto para Xbox 360 40,00 € https://es.wallapop.com/item/lotto-giochi-per-xbox-360-1035175565\n",
      "Juegos de Lotto PS2 30,00 € https://es.wallapop.com/item/lotto-giochi-ps2-1037353178\n",
      "Revistas de lotería My Computer y juegos 25,00 € https://es.wallapop.com/item/lotto-riviste-il-mio-computer-e-giochi-1016041359\n",
      "Retroid 4 pro 170,00 € https://es.wallapop.com/item/retroid-4-pro-1089121274\n",
      "Consola de juegos PlayStation 3 más juegos 120,00 € https://es.wallapop.com/item/console-da-gioco-playstation-3-piu-giochi-1037198666\n",
      "Retroid pocket 4 pro 170,00 € https://es.wallapop.com/item/retroid-pocket-4-pro-1087735833\n",
      "Retroid Pocket 4 Pro 230,00 € https://es.wallapop.com/item/retroid-pocket-4-pro-1039998278\n",
      "PSvita Slim 160,00 € https://es.wallapop.com/item/psvita-slim-1086275067\n",
      "Retroid Pocket 4 Pro 215,00 € https://es.wallapop.com/item/retroid-pocket-4-pro-1073554509\n",
      "La Muñeca Dormida- Books4pocket 7,03 € https://es.wallapop.com/item/la-muneca-dormida-books4pocket-1107010175\n",
      "Retroid Pocket 5 8-128 230,00 € https://es.wallapop.com/item/retroid-pocket-5-8-128-1106278277\n",
      "Retroid pocket 5 280,00 € https://es.wallapop.com/item/retroid-pocket-5-1106075637\n",
      "Retroid Pocket 2  60,00 € https://es.wallapop.com/item/retroid-pocket-2-1106004383\n",
      "Retroid Pocket 5 260,00 € https://es.wallapop.com/item/retroid-pocket-5-1106306159\n",
      "Retroid Pocket 3 plus 115,00 € https://es.wallapop.com/item/retroid-pocket-3-plus-1105959893\n",
      "Retroid Pocket 3 plus  90,00 € https://es.wallapop.com/item/retroid-pocket-3-plus-1105868258\n",
      "Retroid pocket 5  200,00 € https://es.wallapop.com/item/retroid-pocket-5-1106570408\n",
      "RETROID POCKET 3 PLUS  130,00 € https://es.wallapop.com/item/retroid-pocket-3-plus-1105691374\n",
      "Retroid Pocket 5 y Micro SD de 128gb incluida.  240,00 € https://es.wallapop.com/item/retroid-pocket-5-1106576707\n",
      "Retroid pocket 3 plus  120,00 € https://es.wallapop.com/item/retroid-pocket-3-plus-1105724925\n",
      "Enrutador portátil D-Link DWR-932 Pocket Hotspot 4G  30,00 € https://es.wallapop.com/item/router-portatile-d-link-dwr-932-pocket-hotspot-4g-1106744575\n",
      "Retroid Pocket 5   Configurada 270,00 € https://es.wallapop.com/item/retroid-pocket-5-1106269909\n",
      "Retroid Pocket 3+ 100,00 € https://es.wallapop.com/item/retroid-pocket-3-1105065451\n",
      "Retroid pocket mini 200,00 € https://es.wallapop.com/item/retroid-pocket-mini-1106085909\n",
      "Retroid pocket 5 color GC 265,00 € https://es.wallapop.com/item/retroid-pocket-5-color-gc-1105940172\n",
      "Punk Rock Jesus (DC Pocket) 6,00 € https://es.wallapop.com/item/punk-rock-jesus-dc-pocket-1106756712\n",
      "Vendo Retroid Pocket 5 260,00 € https://es.wallapop.com/item/vendo-retroid-pocket-5-1105561765\n",
      "POCKET PC MODELO T5 69,95 € https://es.wallapop.com/item/pocket-pc-modelo-t5-1015182382\n",
      "Polly pocket vintage 50,00 € https://es.wallapop.com/item/polly-pocket-vintage-1106508762\n",
      "Sandman vol. 04: Estación de nieblas (DC Pocket) 11,00 € https://es.wallapop.com/item/sandman-vol-04-estacion-de-nieblas-dc-pocket-1106735539\n",
      "Sandman: Obertura (DC Pocket) (2a edición) 11,00 € https://es.wallapop.com/item/sandman-obertura-dc-pocket-2a-edicion-1106734091\n",
      "Retroid pocket 2 70,00 € https://es.wallapop.com/item/retroid-pocket-2-1103917420\n",
      "LA MONTAÑA RUSA DE Polly Pocket 4 10,00 € https://es.wallapop.com/item/la-montana-rusa-polly-pocket-4-1106311069\n",
      "Casual Album 24-Pocket Green 20,99 € https://es.wallapop.com/item/casual-album-24-pocket-green-1106717064\n",
      "Casual Album 24-Pocket Black 20,99 € https://es.wallapop.com/item/casual-album-24-pocket-black-1106716145\n",
      "Casual Album 24-Pocket White 20,99 € https://es.wallapop.com/item/casual-album-24-pocket-white-1106715176\n",
      "Casual Album 24-Pocket Red 20,99 € https://es.wallapop.com/item/casual-album-24-pocket-red-1106714617\n",
      "Los diarios secretos de Miranda (Books4pocket Romantica) (Spanish Edition) 9,00 € https://es.wallapop.com/item/los-diarios-secretos-de-miranda-books4pocket-romantica-spanish-edition-1106663731\n",
      "Retroid pocket 5 270,00 € https://es.wallapop.com/item/retroid-pocket-5-1104598360\n"
     ]
    }
   ],
   "source": [
    "for item in soup.find_all(class_=\"ItemCardList__item\"):\n",
    "\n",
    "    price = item.find('span', class_=\"ItemCard__price\").text.strip()\n",
    "    name = item.get('title')\n",
    "    webpage = item.get('href')\n",
    "\n",
    "    print(name, price, webpage)"
   ]
  },
  {
   "cell_type": "code",
   "execution_count": null,
   "metadata": {},
   "outputs": [],
   "source": []
  }
 ],
 "metadata": {
  "kernelspec": {
   "display_name": "Python 3",
   "language": "python",
   "name": "python3"
  },
  "language_info": {
   "codemirror_mode": {
    "name": "ipython",
    "version": 3
   },
   "file_extension": ".py",
   "mimetype": "text/x-python",
   "name": "python",
   "nbconvert_exporter": "python",
   "pygments_lexer": "ipython3",
   "version": "3.11.11"
  }
 },
 "nbformat": 4,
 "nbformat_minor": 2
}
